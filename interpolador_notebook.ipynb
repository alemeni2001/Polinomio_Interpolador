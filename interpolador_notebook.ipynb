{
 "cells": [
  {
   "cell_type": "code",
   "execution_count": 18,
   "metadata": {},
   "outputs": [],
   "source": [
    "import numpy as np\n",
    "import sympy as sp"
   ]
  },
  {
   "cell_type": "code",
   "execution_count": 19,
   "metadata": {},
   "outputs": [],
   "source": [
    "def productoria(points, step, txt=False, **kwargs):\n",
    "        x =  kwargs['x'] if 'x' in kwargs else points[step][0]\n",
    "        evaluado = 1\n",
    "        noEvaluado = \"\"\n",
    "        for i in range(step):\n",
    "            noEvaluado += f'*(x-{points[i][0]})'\n",
    "            evaluado *= (x - points[i][0])\n",
    "        return evaluado if not txt else noEvaluado   "
   ]
  },
  {
   "cell_type": "code",
   "execution_count": 20,
   "metadata": {},
   "outputs": [],
   "source": [
    "def alphas(points:list):\n",
    "    alphaList = [] \n",
    "    \n",
    "    def prevAlphas(p):\n",
    "        acum = 0\n",
    "        for i in range(len(alphaList)):\n",
    "            acum += alphaList[i] if i < 1 else alphaList[i]*productoria(points,i,x=p)\n",
    "        return acum\n",
    "\n",
    "    for i,p in enumerate(points):           \n",
    "        alpha = (points[i][1]-(prevAlphas(p[0]) if i>0 else 0))/productoria(points, i) \n",
    "        alphaList.append(alpha)\n",
    "       \n",
    "    return alphaList"
   ]
  },
  {
   "cell_type": "code",
   "execution_count": 21,
   "metadata": {},
   "outputs": [],
   "source": [
    "def nEquation(points, **kwargs):\n",
    "    pn =  kwargs['pn'] if 'pn' in kwargs else len(points)\n",
    "    x = sp.symbols('x')\n",
    "    equations = []\n",
    "    alphaList = alphas(points)\n",
    "    equation = f'{alphaList[0]}'\n",
    "\n",
    "    for i in range(pn):\n",
    "        if i > 0:\n",
    "            equation += f'{\"+\" if alphaList[i] > 0 else \"\"}{alphaList[i]}{productoria(points,i,True)}'\n",
    "\n",
    "    equation = sp.expand(equation)\n",
    "    print(equation)\n",
    "    return sp.lambdify(x,equation,np)"
   ]
  },
  {
   "cell_type": "code",
   "execution_count": 22,
   "metadata": {},
   "outputs": [],
   "source": [
    "def validarNum(txt:str, nat=False, **kwargs):\n",
    "    min =  kwargs['min'] if 'min' in kwargs else None\n",
    "    while True:\n",
    "        val = input(txt)  \n",
    "        try:\n",
    "            val = float(val)\n",
    "            if val.is_integer():\n",
    "                val = int(val)\n",
    "            if (min and val < min):\n",
    "                raise Exception(f\"Error: El número debe ser mayor de {min}\") \n",
    "            if (nat and (val <= 0)):\n",
    "                raise Exception(\"Error: Se esperaba un número mayor a 0\")                \n",
    "            return val\n",
    "        except ValueError:\n",
    "            print(\"Error: Se esperaba un valor numérico válido.\") \n",
    "        except Exception as e:\n",
    "            print(e)             "
   ]
  },
  {
   "cell_type": "code",
   "execution_count": 23,
   "metadata": {},
   "outputs": [],
   "source": [
    "def choice(txt:str):\n",
    "    ch = str(input(txt))\n",
    "    while(ch.lower() != 's' and ch.lower() != 'n'):\n",
    "        print(f'Se esperaba S/N pero se obtubo {ch}.')\n",
    "        ch = str(input(txt))\n",
    "    return True if ch.lower() == 's' else False"
   ]
  },
  {
   "cell_type": "code",
   "execution_count": 24,
   "metadata": {},
   "outputs": [],
   "source": [
    "# Funcion que genera segun una cantidad pares alaeatorios utilizando una cota superior e inferior, devuelve una lista de tuplas represntadas como puntos\n",
    "def generarPuntos(x_min, x_max, y_min, y_max, steps):\n",
    "    return [(x,y) for x,y in zip(np.random.uniform(x_min, x_max, steps), np.random.uniform(y_min, y_max, steps))]"
   ]
  },
  {
   "cell_type": "code",
   "execution_count": 47,
   "metadata": {},
   "outputs": [],
   "source": [
    "class Puntos:\n",
    "    def __init__(self):\n",
    "        self.steps = int(validarNum('Ingrese la cantidad de puntos:',True))\n",
    "        self.XN = np.array([])\n",
    "        self.YN = np.array([])\n",
    "    \n",
    "    def generar(self):\n",
    "        for i in range(self.steps):\n",
    "            self.XN = np.append(self.XN, validarNum(f'Ingrese el valor para X{i}'))\n",
    "            self.YN = np.append(self.YN, validarNum(f'Ingrese el valor para Y{i}'))\n",
    "\n",
    "    def obtenerPuntos(self):\n",
    "        self.generar()\n",
    "        return [(x,y) for x,y in zip(self.XN,self.YN)]\n",
    "\n",
    "class PuntosAleatorios(Puntos):\n",
    "    def __init__(self, X_Equal_Y):\n",
    "        Puntos.__init__(self)\n",
    "        self.x_min = validarNum('Ingrese la cota menor para x:')\n",
    "        self.x_max = validarNum('Ingrese la cota mayor para x:',min=self.x_min)\n",
    "        self.y_min = self.x_min\n",
    "        self.y_max = self.x_max\n",
    "    \n",
    "        if not X_Equal_Y:\n",
    "            self.y_min = validarNum('Ingrese la cota inferior para y:')\n",
    "            self.y_max = validarNum('Ingrese la cota superior para y:',min=self.y_min)\n",
    "         \n",
    "    def generar(self):\n",
    "        self.XN = np.random.uniform(self.x_min, self.x_max, self.steps)\n",
    "        self.YN = np.random.uniform(self.y_min, self.y_max, self.steps)"
   ]
  },
  {
   "cell_type": "code",
   "execution_count": 48,
   "metadata": {},
   "outputs": [
    {
     "ename": "TypeError",
     "evalue": "'NoneType' object is not iterable",
     "output_type": "error",
     "traceback": [
      "\u001b[1;31m---------------------------------------------------------------------------\u001b[0m",
      "\u001b[1;31mTypeError\u001b[0m                                 Traceback (most recent call last)",
      "Cell \u001b[1;32mIn [48], line 17\u001b[0m\n\u001b[0;32m      3\u001b[0m     \u001b[38;5;28mprint\u001b[39m(lista_puntos)    \n\u001b[0;32m      4\u001b[0m     \u001b[38;5;66;03m# steps = int(validarNum('Ingrese la cantidad de puntos:',True))\u001b[39;00m\n\u001b[0;32m      5\u001b[0m     \u001b[38;5;66;03m# x_min = validarNum('Ingrese la cota menor para x:')\u001b[39;00m\n\u001b[0;32m      6\u001b[0m     \u001b[38;5;66;03m# x_max = validarNum('Ingrese la cota mayor para x:',min=x_min)\u001b[39;00m\n\u001b[1;32m   (...)\u001b[0m\n\u001b[0;32m     14\u001b[0m     \u001b[38;5;66;03m# Generar los pares de números aleatorios\u001b[39;00m\n\u001b[0;32m     15\u001b[0m     \u001b[38;5;66;03m#lista_puntos = generarPuntos(x_min, x_max, y_min, y_max, steps)\u001b[39;00m\n\u001b[1;32m---> 17\u001b[0m \u001b[43mmain\u001b[49m\u001b[43m(\u001b[49m\u001b[43m)\u001b[49m\u001b[38;5;66;03m# if choice('Limites de x e y iguales? S/N') == 's' else main(True)\u001b[39;00m\n",
      "Cell \u001b[1;32mIn [48], line 2\u001b[0m, in \u001b[0;36mmain\u001b[1;34m(X_Not_Y)\u001b[0m\n\u001b[0;32m      1\u001b[0m \u001b[38;5;28;01mdef\u001b[39;00m \u001b[38;5;21mmain\u001b[39m(X_Not_Y\u001b[38;5;241m=\u001b[39m\u001b[38;5;28;01mFalse\u001b[39;00m):\n\u001b[1;32m----> 2\u001b[0m     lista_puntos \u001b[38;5;241m=\u001b[39m \u001b[43mPuntos\u001b[49m\u001b[43m(\u001b[49m\u001b[43m)\u001b[49m\u001b[38;5;241;43m.\u001b[39;49m\u001b[43mobtenerPuntos\u001b[49m\u001b[43m(\u001b[49m\u001b[43m)\u001b[49m \u001b[38;5;28;01mif\u001b[39;00m choice(\u001b[38;5;124m\"\u001b[39m\u001b[38;5;124mDesea ingresar los puntos manualmente? S/N\u001b[39m\u001b[38;5;124m\"\u001b[39m) \u001b[38;5;28;01melse\u001b[39;00m PuntosAleatorios(choice(\u001b[38;5;124m'\u001b[39m\u001b[38;5;124mLimites de x e y iguales? S/N\u001b[39m\u001b[38;5;124m'\u001b[39m))\u001b[38;5;241m.\u001b[39mobtenerPuntos()\n\u001b[0;32m      3\u001b[0m     \u001b[38;5;28mprint\u001b[39m(lista_puntos)\n",
      "Cell \u001b[1;32mIn [47], line 14\u001b[0m, in \u001b[0;36mPuntos.obtenerPuntos\u001b[1;34m(self)\u001b[0m\n\u001b[0;32m     12\u001b[0m \u001b[38;5;28;01mdef\u001b[39;00m \u001b[38;5;21mobtenerPuntos\u001b[39m(\u001b[38;5;28mself\u001b[39m):\n\u001b[0;32m     13\u001b[0m     \u001b[38;5;28mself\u001b[39m\u001b[38;5;241m.\u001b[39mgenerar()\n\u001b[1;32m---> 14\u001b[0m     \u001b[38;5;28;01mreturn\u001b[39;00m [(x,y) \u001b[38;5;28;01mfor\u001b[39;00m x,y \u001b[38;5;129;01min\u001b[39;00m \u001b[38;5;28;43mzip\u001b[39;49m\u001b[43m(\u001b[49m\u001b[38;5;28;43mself\u001b[39;49m\u001b[38;5;241;43m.\u001b[39;49m\u001b[43mXN\u001b[49m\u001b[38;5;241;43m.\u001b[39;49m\u001b[43msort\u001b[49m\u001b[43m(\u001b[49m\u001b[43m)\u001b[49m\u001b[43m,\u001b[49m\u001b[38;5;28;43mself\u001b[39;49m\u001b[38;5;241;43m.\u001b[39;49m\u001b[43mYN\u001b[49m\u001b[43m)\u001b[49m]\n",
      "\u001b[1;31mTypeError\u001b[0m: 'NoneType' object is not iterable"
     ]
    }
   ],
   "source": [
    "def main(X_Not_Y=False):\n",
    "    lista_puntos = Puntos().obtenerPuntos() if choice(\"Desea ingresar los puntos manualmente? S/N\") else PuntosAleatorios(choice('Limites de x e y iguales? S/N')).obtenerPuntos()\n",
    "    print(lista_puntos)    \n",
    "    # steps = int(validarNum('Ingrese la cantidad de puntos:',True))\n",
    "    # x_min = validarNum('Ingrese la cota menor para x:')\n",
    "    # x_max = validarNum('Ingrese la cota mayor para x:',min=x_min)\n",
    "    # y_min = x_min\n",
    "    # y_max = x_max\n",
    "    \n",
    "    # if(X_Not_Y):\n",
    "    #     y_min = validarNum('Ingrese la cota inferior para y:')\n",
    "    #     y_max = validarNum('Ingrese la cota superior para y:',min=y_min)\n",
    "                                \n",
    "    # Generar los pares de números aleatorios\n",
    "    #lista_puntos = generarPuntos(x_min, x_max, y_min, y_max, steps)\n",
    "\n",
    "main()# if choice('Limites de x e y iguales? S/N') == 's' else main(True)"
   ]
  }
 ],
 "metadata": {
  "kernelspec": {
   "display_name": "Python 3.10.7 64-bit",
   "language": "python",
   "name": "python3"
  },
  "language_info": {
   "codemirror_mode": {
    "name": "ipython",
    "version": 3
   },
   "file_extension": ".py",
   "mimetype": "text/x-python",
   "name": "python",
   "nbconvert_exporter": "python",
   "pygments_lexer": "ipython3",
   "version": "3.10.7"
  },
  "orig_nbformat": 4,
  "vscode": {
   "interpreter": {
    "hash": "bb63a77499ed5899fffa71b49f0fc3f4df2c625891c3993c985b13a523c87e61"
   }
  }
 },
 "nbformat": 4,
 "nbformat_minor": 2
}
