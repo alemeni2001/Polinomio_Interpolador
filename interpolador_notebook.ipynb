{
 "cells": [
  {
   "cell_type": "code",
   "execution_count": 6,
   "metadata": {},
   "outputs": [],
   "source": [
    "import numpy as np\n",
    "import sympy as sp"
   ]
  },
  {
   "cell_type": "code",
   "execution_count": 7,
   "metadata": {},
   "outputs": [],
   "source": [
    "def productoria(points, step, txt=False, **kwargs):\n",
    "        x =  kwargs['x'] if 'x' in kwargs else points[step][0]\n",
    "        evaluado = 1\n",
    "        noEvaluado = \"\"\n",
    "        for i in range(step):\n",
    "            noEvaluado += f'*(x-{points[i][0]})'\n",
    "            evaluado *= (x - points[i][0])\n",
    "        return evaluado if not txt else noEvaluado   "
   ]
  },
  {
   "cell_type": "code",
   "execution_count": 8,
   "metadata": {},
   "outputs": [],
   "source": [
    "def alphas(points:list):\n",
    "    alphaList = [] \n",
    "    \n",
    "    def prevAlphas(p):\n",
    "        acum = 0\n",
    "        for i in range(len(alphaList)):\n",
    "            acum += alphaList[i] if i < 1 else alphaList[i]*productoria(points,i,x=p)\n",
    "        return acum\n",
    "\n",
    "    for i,p in enumerate(points):           \n",
    "        alpha = (points[i][1]-(prevAlphas(p[0]) if i>0 else 0))/productoria(points, i) \n",
    "        alphaList.append(alpha)\n",
    "       \n",
    "    return alphaList"
   ]
  },
  {
   "cell_type": "code",
   "execution_count": 9,
   "metadata": {},
   "outputs": [],
   "source": [
    "def nEquation(points, **kwargs):\n",
    "    pn =  kwargs['pn'] if 'pn' in kwargs else len(points)\n",
    "    x = sp.symbols('x')\n",
    "    equations = []\n",
    "    alphaList = alphas(points)\n",
    "    equation = f'{alphaList[0]}'\n",
    "\n",
    "    for i in range(pn):\n",
    "        if i > 0:\n",
    "            equation += f'{\"+\" if alphaList[i] > 0 else \"\"}{alphaList[i]}{productoria(points,i,True)}'\n",
    "\n",
    "    equation = sp.expand(equation)\n",
    "    print(equation)\n",
    "    return sp.lambdify(x,equation,np)"
   ]
  },
  {
   "cell_type": "code",
   "execution_count": 10,
   "metadata": {},
   "outputs": [],
   "source": [
    "def validarNum(txt:str, nat=False, **kwargs):\n",
    "    min =  kwargs['min'] if 'min' in kwargs else None\n",
    "    while True:\n",
    "        val = input(txt)  \n",
    "        try:\n",
    "            val = float(val)\n",
    "            if val.is_integer():\n",
    "                val = int(val)\n",
    "            if (min and val < min):\n",
    "                raise Exception(f\"Error: El número debe ser mayor de {min}\") \n",
    "            if (nat and (val <= 0)):\n",
    "                raise Exception(\"Error: Se esperaba un número mayor a 0\")                \n",
    "            return val\n",
    "        except ValueError:\n",
    "            print(\"Error: Se esperaba un valor numérico válido.\") \n",
    "        except Exception as e:\n",
    "            print(e)             "
   ]
  },
  {
   "cell_type": "code",
   "execution_count": 11,
   "metadata": {},
   "outputs": [],
   "source": [
    "def choice(txt:str):\n",
    "    ch = str(input(txt))\n",
    "    while(ch.lower() != 's' and ch.lower() != 'n'):\n",
    "        print(f'Se esperaba S/N pero se obtubo {ch}.')\n",
    "        ch = str(input(txt))\n",
    "    return True if ch.lower() == 's' else False"
   ]
  },
  {
   "cell_type": "code",
   "execution_count": 12,
   "metadata": {},
   "outputs": [],
   "source": [
    "# Funcion que genera segun una cantidad pares alaeatorios utilizando una cota superior e inferior, devuelve una lista de tuplas represntadas como puntos\n",
    "def generarPuntos(x_min, x_max, y_min, y_max, steps):\n",
    "    return [(x,y) for x,y in zip(np.random.uniform(x_min, x_max, steps), np.random.uniform(y_min, y_max, steps))]"
   ]
  },
  {
   "cell_type": "code",
   "execution_count": null,
   "metadata": {},
   "outputs": [],
   "source": [
    "class Puntos:\n",
    "    def __init__(self):\n",
    "        self.steps = int(validarNum('Ingrese la cantidad de puntos:',True))\n",
    "        self.XN = np.array()\n",
    "        self.YN = np.array()\n",
    "    \n",
    "    def generar(self):\n",
    "        for i in self.steps:\n",
    "            self.XN.append(validarNum(f'Ingrese el valor para X{i}'))\n",
    "            self.YN.append(validarNum(f'Ingrese el valor para Y{i}'))\n",
    "\n",
    "    def obtenerPuntos(self):\n",
    "        self.generar()\n",
    "        return [(x,y) for x,y in zip(self.XN,self.YN)]\n",
    "\n",
    "class PuntosAleatorios(Puntos):\n",
    "    def __init__(self, X_Equal_Y):\n",
    "        x_min = validarNum('Ingrese la cota menor para x:')\n",
    "        x_max = validarNum('Ingrese la cota mayor para x:',min=x_min)\n",
    "        y_min = x_min\n",
    "        y_max = x_max\n",
    "    \n",
    "        if not X_Equal_Y:\n",
    "            y_min = validarNum('Ingrese la cota inferior para y:')\n",
    "            y_max = validarNum('Ingrese la cota superior para y:',min=y_min)\n",
    "         \n",
    "    def generar(self):\n",
    "        self.XN = np.random.uniform(self.x_min, self.x_max, self.steps)\n",
    "        self.YN = np.random.uniform(self.y_min, self.y_max, self.steps)"
   ]
  },
  {
   "cell_type": "code",
   "execution_count": 17,
   "metadata": {},
   "outputs": [
    {
     "name": "stdout",
     "output_type": "stream",
     "text": [
      "Error: Se esperaba un valor numérico válido.\n"
     ]
    },
    {
     "ename": "KeyboardInterrupt",
     "evalue": "Interrupted by user",
     "output_type": "error",
     "traceback": [
      "\u001b[1;31m---------------------------------------------------------------------------\u001b[0m",
      "\u001b[1;31mKeyboardInterrupt\u001b[0m                         Traceback (most recent call last)",
      "Cell \u001b[1;32mIn [17], line 16\u001b[0m\n\u001b[0;32m      2\u001b[0m     lista_puntos \u001b[38;5;241m=\u001b[39m Puntos()\u001b[38;5;241m.\u001b[39mobtenerPuntos() \u001b[38;5;28;01mif\u001b[39;00m choice(\u001b[38;5;124m\"\u001b[39m\u001b[38;5;124mDesea ingresar los puntos manualmente? S/N\u001b[39m\u001b[38;5;124m\"\u001b[39m) \u001b[38;5;28;01melse\u001b[39;00m PuntosAleatorios(choice(\u001b[38;5;124m'\u001b[39m\u001b[38;5;124mLimites de x e y iguales? S/N\u001b[39m\u001b[38;5;124m'\u001b[39m))\u001b[38;5;241m.\u001b[39mobtenerPuntos()\n\u001b[0;32m      3\u001b[0m     \u001b[38;5;66;03m# steps = int(validarNum('Ingrese la cantidad de puntos:',True))\u001b[39;00m\n\u001b[0;32m      4\u001b[0m     \u001b[38;5;66;03m# x_min = validarNum('Ingrese la cota menor para x:')\u001b[39;00m\n\u001b[0;32m      5\u001b[0m     \u001b[38;5;66;03m# x_max = validarNum('Ingrese la cota mayor para x:',min=x_min)\u001b[39;00m\n\u001b[1;32m   (...)\u001b[0m\n\u001b[0;32m     13\u001b[0m     \u001b[38;5;66;03m# Generar los pares de números aleatorios\u001b[39;00m\n\u001b[0;32m     14\u001b[0m     \u001b[38;5;66;03m#lista_puntos = generarPuntos(x_min, x_max, y_min, y_max, steps)\u001b[39;00m\n\u001b[1;32m---> 16\u001b[0m \u001b[43mmain\u001b[49m\u001b[43m(\u001b[49m\u001b[43m)\u001b[49m\u001b[38;5;66;03m# if choice('Limites de x e y iguales? S/N') == 's' else main(True)\u001b[39;00m\n",
      "Cell \u001b[1;32mIn [17], line 2\u001b[0m, in \u001b[0;36mmain\u001b[1;34m(X_Not_Y)\u001b[0m\n\u001b[0;32m      1\u001b[0m \u001b[38;5;28;01mdef\u001b[39;00m \u001b[38;5;21mmain\u001b[39m(X_Not_Y\u001b[38;5;241m=\u001b[39m\u001b[38;5;28;01mFalse\u001b[39;00m):\n\u001b[1;32m----> 2\u001b[0m     lista_puntos \u001b[38;5;241m=\u001b[39m Puntos()\u001b[38;5;241m.\u001b[39mobtenerPuntos() \u001b[38;5;28;01mif\u001b[39;00m choice(\u001b[38;5;124m\"\u001b[39m\u001b[38;5;124mDesea ingresar los puntos manualmente? S/N\u001b[39m\u001b[38;5;124m\"\u001b[39m) \u001b[38;5;28;01melse\u001b[39;00m \u001b[43mPuntosAleatorios\u001b[49m\u001b[43m(\u001b[49m\u001b[43mchoice\u001b[49m\u001b[43m(\u001b[49m\u001b[38;5;124;43m'\u001b[39;49m\u001b[38;5;124;43mLimites de x e y iguales? S/N\u001b[39;49m\u001b[38;5;124;43m'\u001b[39;49m\u001b[43m)\u001b[49m\u001b[43m)\u001b[49m\u001b[38;5;241m.\u001b[39mobtenerPuntos()\n",
      "Cell \u001b[1;32mIn [13], line 24\u001b[0m, in \u001b[0;36mPuntosAleatorios.__init__\u001b[1;34m(self, X_Not_Y)\u001b[0m\n\u001b[0;32m     21\u001b[0m y_max \u001b[38;5;241m=\u001b[39m x_max\n\u001b[0;32m     23\u001b[0m \u001b[38;5;28;01mif\u001b[39;00m(X_Not_Y):\n\u001b[1;32m---> 24\u001b[0m     y_min \u001b[38;5;241m=\u001b[39m \u001b[43mvalidarNum\u001b[49m\u001b[43m(\u001b[49m\u001b[38;5;124;43m'\u001b[39;49m\u001b[38;5;124;43mIngrese la cota inferior para y:\u001b[39;49m\u001b[38;5;124;43m'\u001b[39;49m\u001b[43m)\u001b[49m\n\u001b[0;32m     25\u001b[0m     y_max \u001b[38;5;241m=\u001b[39m validarNum(\u001b[38;5;124m'\u001b[39m\u001b[38;5;124mIngrese la cota superior para y:\u001b[39m\u001b[38;5;124m'\u001b[39m,\u001b[38;5;28mmin\u001b[39m\u001b[38;5;241m=\u001b[39my_min)\n",
      "Cell \u001b[1;32mIn [10], line 4\u001b[0m, in \u001b[0;36mvalidarNum\u001b[1;34m(txt, nat, **kwargs)\u001b[0m\n\u001b[0;32m      2\u001b[0m \u001b[38;5;28mmin\u001b[39m \u001b[38;5;241m=\u001b[39m  kwargs[\u001b[38;5;124m'\u001b[39m\u001b[38;5;124mmin\u001b[39m\u001b[38;5;124m'\u001b[39m] \u001b[38;5;28;01mif\u001b[39;00m \u001b[38;5;124m'\u001b[39m\u001b[38;5;124mmin\u001b[39m\u001b[38;5;124m'\u001b[39m \u001b[38;5;129;01min\u001b[39;00m kwargs \u001b[38;5;28;01melse\u001b[39;00m \u001b[38;5;28;01mNone\u001b[39;00m\n\u001b[0;32m      3\u001b[0m \u001b[38;5;28;01mwhile\u001b[39;00m \u001b[38;5;28;01mTrue\u001b[39;00m:\n\u001b[1;32m----> 4\u001b[0m     val \u001b[38;5;241m=\u001b[39m \u001b[38;5;28;43minput\u001b[39;49m\u001b[43m(\u001b[49m\u001b[43mtxt\u001b[49m\u001b[43m)\u001b[49m  \n\u001b[0;32m      5\u001b[0m     \u001b[38;5;28;01mtry\u001b[39;00m:\n\u001b[0;32m      6\u001b[0m         val \u001b[38;5;241m=\u001b[39m \u001b[38;5;28mfloat\u001b[39m(val)\n",
      "File \u001b[1;32mc:\\Users\\Pablo\\AppData\\Local\\Programs\\Python\\Python310\\lib\\site-packages\\ipykernel\\kernelbase.py:1177\u001b[0m, in \u001b[0;36mKernel.raw_input\u001b[1;34m(self, prompt)\u001b[0m\n\u001b[0;32m   1173\u001b[0m \u001b[39mif\u001b[39;00m \u001b[39mnot\u001b[39;00m \u001b[39mself\u001b[39m\u001b[39m.\u001b[39m_allow_stdin:\n\u001b[0;32m   1174\u001b[0m     \u001b[39mraise\u001b[39;00m StdinNotImplementedError(\n\u001b[0;32m   1175\u001b[0m         \u001b[39m\"\u001b[39m\u001b[39mraw_input was called, but this frontend does not support input requests.\u001b[39m\u001b[39m\"\u001b[39m\n\u001b[0;32m   1176\u001b[0m     )\n\u001b[1;32m-> 1177\u001b[0m \u001b[39mreturn\u001b[39;00m \u001b[39mself\u001b[39;49m\u001b[39m.\u001b[39;49m_input_request(\n\u001b[0;32m   1178\u001b[0m     \u001b[39mstr\u001b[39;49m(prompt),\n\u001b[0;32m   1179\u001b[0m     \u001b[39mself\u001b[39;49m\u001b[39m.\u001b[39;49m_parent_ident[\u001b[39m\"\u001b[39;49m\u001b[39mshell\u001b[39;49m\u001b[39m\"\u001b[39;49m],\n\u001b[0;32m   1180\u001b[0m     \u001b[39mself\u001b[39;49m\u001b[39m.\u001b[39;49mget_parent(\u001b[39m\"\u001b[39;49m\u001b[39mshell\u001b[39;49m\u001b[39m\"\u001b[39;49m),\n\u001b[0;32m   1181\u001b[0m     password\u001b[39m=\u001b[39;49m\u001b[39mFalse\u001b[39;49;00m,\n\u001b[0;32m   1182\u001b[0m )\n",
      "File \u001b[1;32mc:\\Users\\Pablo\\AppData\\Local\\Programs\\Python\\Python310\\lib\\site-packages\\ipykernel\\kernelbase.py:1219\u001b[0m, in \u001b[0;36mKernel._input_request\u001b[1;34m(self, prompt, ident, parent, password)\u001b[0m\n\u001b[0;32m   1216\u001b[0m             \u001b[39mbreak\u001b[39;00m\n\u001b[0;32m   1217\u001b[0m \u001b[39mexcept\u001b[39;00m \u001b[39mKeyboardInterrupt\u001b[39;00m:\n\u001b[0;32m   1218\u001b[0m     \u001b[39m# re-raise KeyboardInterrupt, to truncate traceback\u001b[39;00m\n\u001b[1;32m-> 1219\u001b[0m     \u001b[39mraise\u001b[39;00m \u001b[39mKeyboardInterrupt\u001b[39;00m(\u001b[39m\"\u001b[39m\u001b[39mInterrupted by user\u001b[39m\u001b[39m\"\u001b[39m) \u001b[39mfrom\u001b[39;00m \u001b[39mNone\u001b[39m\n\u001b[0;32m   1220\u001b[0m \u001b[39mexcept\u001b[39;00m \u001b[39mException\u001b[39;00m:\n\u001b[0;32m   1221\u001b[0m     \u001b[39mself\u001b[39m\u001b[39m.\u001b[39mlog\u001b[39m.\u001b[39mwarning(\u001b[39m\"\u001b[39m\u001b[39mInvalid Message:\u001b[39m\u001b[39m\"\u001b[39m, exc_info\u001b[39m=\u001b[39m\u001b[39mTrue\u001b[39;00m)\n",
      "\u001b[1;31mKeyboardInterrupt\u001b[0m: Interrupted by user"
     ]
    }
   ],
   "source": [
    "def main(X_Not_Y=False):\n",
    "    lista_puntos = Puntos().obtenerPuntos() if choice(\"Desea ingresar los puntos manualmente? S/N\") else PuntosAleatorios(choice('Limites de x e y iguales? S/N')).obtenerPuntos()\n",
    "    # steps = int(validarNum('Ingrese la cantidad de puntos:',True))\n",
    "    # x_min = validarNum('Ingrese la cota menor para x:')\n",
    "    # x_max = validarNum('Ingrese la cota mayor para x:',min=x_min)\n",
    "    # y_min = x_min\n",
    "    # y_max = x_max\n",
    "    \n",
    "    # if(X_Not_Y):\n",
    "    #     y_min = validarNum('Ingrese la cota inferior para y:')\n",
    "    #     y_max = validarNum('Ingrese la cota superior para y:',min=y_min)\n",
    "                                \n",
    "    # Generar los pares de números aleatorios\n",
    "    #lista_puntos = generarPuntos(x_min, x_max, y_min, y_max, steps)\n",
    "\n",
    "main()# if choice('Limites de x e y iguales? S/N') == 's' else main(True)"
   ]
  }
 ],
 "metadata": {
  "kernelspec": {
   "display_name": "Python 3.10.7 64-bit",
   "language": "python",
   "name": "python3"
  },
  "language_info": {
   "codemirror_mode": {
    "name": "ipython",
    "version": 3
   },
   "file_extension": ".py",
   "mimetype": "text/x-python",
   "name": "python",
   "nbconvert_exporter": "python",
   "pygments_lexer": "ipython3",
   "version": "3.10.7"
  },
  "orig_nbformat": 4,
  "vscode": {
   "interpreter": {
    "hash": "bb63a77499ed5899fffa71b49f0fc3f4df2c625891c3993c985b13a523c87e61"
   }
  }
 },
 "nbformat": 4,
 "nbformat_minor": 2
}
