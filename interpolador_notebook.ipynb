{
 "cells": [
  {
   "cell_type": "code",
   "execution_count": 34,
   "metadata": {},
   "outputs": [],
   "source": [
    "import numpy as np\n",
    "import sympy as sp"
   ]
  },
  {
   "cell_type": "code",
   "execution_count": 35,
   "metadata": {},
   "outputs": [],
   "source": [
    "def productoria(points, step, txt=False, **kwargs):\n",
    "        x =  kwargs['x'] if 'x' in kwargs else points[step][0]\n",
    "        evaluado = 1\n",
    "        noEvaluado = \"\"\n",
    "        for i in range(step):\n",
    "            noEvaluado += f'*(x-{points[i][0]})'\n",
    "            evaluado *= (x - points[i][0])\n",
    "        return evaluado if not txt else noEvaluado   "
   ]
  },
  {
   "cell_type": "code",
   "execution_count": 36,
   "metadata": {},
   "outputs": [],
   "source": [
    "def alphas(points:list):\n",
    "    alphaList = [] \n",
    "    \n",
    "    def prevAlphas(p):\n",
    "        acum = 0\n",
    "        for i in range(len(alphaList)):\n",
    "            acum += alphaList[i] if i < 1 else alphaList[i]*productoria(points,i,x=p)\n",
    "        return acum\n",
    "\n",
    "    for i,p in enumerate(points):           \n",
    "        alpha = (points[i][1]-(prevAlphas(p[0]) if i>0 else 0))/productoria(points, i) \n",
    "        alphaList.append(alpha)\n",
    "       \n",
    "    return alphaList"
   ]
  },
  {
   "cell_type": "code",
   "execution_count": 37,
   "metadata": {},
   "outputs": [],
   "source": [
    "def nEquation(points, **kwargs):\n",
    "    pn =  kwargs['pn'] if 'pn' in kwargs else len(points)\n",
    "    x = sp.symbols('x')\n",
    "    equations = []\n",
    "    alphaList = alphas(points)\n",
    "    equation = f'{alphaList[0]}'\n",
    "\n",
    "    for i in range(pn):\n",
    "        if i > 0:\n",
    "            equation += f'{\"+\" if alphaList[i] > 0 else \"\"}{alphaList[i]}{productoria(points,i,True)}'\n",
    "\n",
    "    equation = sp.expand(equation)\n",
    "    print(equation)\n",
    "    return sp.lambdify(x,equation,np)"
   ]
  },
  {
   "cell_type": "code",
   "execution_count": 38,
   "metadata": {},
   "outputs": [],
   "source": [
    "def validarNum(txt:str, nat=False, **kwargs):\n",
    "    min =  kwargs['min'] if 'min' in kwargs else None\n",
    "    while True:\n",
    "        val = input(txt)  \n",
    "        try:\n",
    "            val = float(val)\n",
    "            if val.is_integer():\n",
    "                val = int(val)\n",
    "            if (min and val < min):\n",
    "                raise Exception(f\"Error: El número debe ser mayor de {min}\") \n",
    "            if (nat and (val <= 0)):\n",
    "                raise Exception(\"Error: Se esperaba un número mayor a 0\")                \n",
    "            return val\n",
    "        except ValueError:\n",
    "            print(\"Error: Se esperaba un valor numérico válido.\") \n",
    "        except Exception as e:\n",
    "            print(e)             "
   ]
  },
  {
   "cell_type": "code",
   "execution_count": 39,
   "metadata": {},
   "outputs": [],
   "source": [
    "def choice(txt:str):\n",
    "    ch = str(input(txt))\n",
    "    while(ch.lower() != 's' and ch.lower() != 'n'):\n",
    "        print(f'Se esperaba S/N pero se obtubo {ch}.')\n",
    "        ch = str(input(txt))\n",
    "    return ch.lower()"
   ]
  },
  {
   "cell_type": "code",
   "execution_count": 40,
   "metadata": {},
   "outputs": [],
   "source": [
    "# Funcion que genera segun una cantidad pares alaeatorios utilizando una cota superior e inferior, devuelve una lista de tuplas represntadas como puntos\n",
    "def generarPuntos(x_min, x_max, y_min, y_max, steps):\n",
    "    return [(x,y) for x,y in zip(np.random.uniform(x_min, x_max, steps), np.random.uniform(y_min, y_max, steps))]"
   ]
  },
  {
   "cell_type": "code",
   "execution_count": 41,
   "metadata": {},
   "outputs": [
    {
     "name": "stdout",
     "output_type": "stream",
     "text": [
      "Se esperaba S/N pero se obtubo 3.\n"
     ]
    }
   ],
   "source": [
    "def main(X_Not_Y=False):\n",
    "    steps = int(validarNum('Ingrese la cantidad de puntos:',True))\n",
    "    x_min = validarNum('Ingrese la cota menor para x:')\n",
    "    x_max = validarNum('Ingrese la cota mayor para x:',min=x_min)\n",
    "    y_min = x_min\n",
    "    y_max = x_max\n",
    "    \n",
    "    if(X_Not_Y):\n",
    "        y_min = validarNum('Ingrese la cota inferior para y:')\n",
    "        y_max = validarNum('Ingrese la cota superior para y:',min=y_min)\n",
    "                                \n",
    "    # Generar los pares de números aleatorios\n",
    "    lista_puntos = generarPuntos(x_min, x_max, y_min, y_max, steps)\n",
    "\n",
    "main() if choice('Limites de x e y iguales? S/N') == 's' else main(True)"
   ]
  }
 ],
 "metadata": {
  "kernelspec": {
   "display_name": "Python 3.10.7 64-bit",
   "language": "python",
   "name": "python3"
  },
  "language_info": {
   "codemirror_mode": {
    "name": "ipython",
    "version": 3
   },
   "file_extension": ".py",
   "mimetype": "text/x-python",
   "name": "python",
   "nbconvert_exporter": "python",
   "pygments_lexer": "ipython3",
   "version": "3.10.7"
  },
  "orig_nbformat": 4,
  "vscode": {
   "interpreter": {
    "hash": "bb63a77499ed5899fffa71b49f0fc3f4df2c625891c3993c985b13a523c87e61"
   }
  }
 },
 "nbformat": 4,
 "nbformat_minor": 2
}
