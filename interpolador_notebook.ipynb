{
 "cells": [
  {
   "cell_type": "code",
   "execution_count": 6,
   "metadata": {},
   "outputs": [],
   "source": [
    "import numpy as np\n",
    "import sympy as sp"
   ]
  },
  {
   "cell_type": "code",
   "execution_count": 7,
   "metadata": {},
   "outputs": [],
   "source": [
    "# Obtengo los datos por el usuario que cota inferior, superior quiero y la cantidad de par de numeros\n",
    "def ingresar_datos():\n",
    "    cota_inferior = float(input(\"Ingresa la cota inferior para x: \"))\n",
    "    cota_superior = float(input(\"Ingresa la cota superior para x: \"))\n",
    "    cantidad = int(input(\"Ingresa la cantidad de pares de números: \"))\n",
    "    return (cota_inferior, cota_superior, cantidad)"
   ]
  },
  {
   "cell_type": "code",
   "execution_count": 33,
   "metadata": {},
   "outputs": [],
   "source": [
    "# Funcion que genera segun una cantidad pares alaeatorios utilizando una cota superior e inferior, devuelve una lista de tuplas represntadas como puntos\n",
    "def generar_puntos_aleatorios(cota_inferior, cota_superior, cantidad):\n",
    "    # Genero los valores de x\n",
    "    x = np.random.uniform(cota_inferior, cota_superior, cantidad)\n",
    "    # Genero la lista de puntos con x ordenado\n",
    "    y = np.random.uniform(cota_inferior, cota_superior, cantidad)\n",
    "    return [(x,y) for x,y in zip(x.sort(),y)]"
   ]
  },
  {
   "cell_type": "code",
   "execution_count": 51,
   "metadata": {},
   "outputs": [],
   "source": [
    "cosas = [(1,2),(3,1),(4,-1),(6,2)]"
   ]
  },
  {
   "cell_type": "code",
   "execution_count": 125,
   "metadata": {},
   "outputs": [],
   "source": [
    "def alpha(lista_puntos:list,paso):\n",
    "    def productoria():\n",
    "        equation = \"\"\n",
    "        x = sp.symbols('x')\n",
    "\n",
    "        for i in range(paso):\n",
    "            equation += str(f\"(x-{lista_puntos[i][0]})\")\n",
    "            if (i != paso-1):\n",
    "                equation += \"*\"\n",
    "\n",
    "        f = sp.lambdify(x,equation,np)\n",
    "        #print(equation,\"\\n\",f(lista_puntos[paso][0])) ##DEBUG\n",
    "        return f(lista_puntos[paso][0])\n",
    "    \n",
    "    Y0 = lista_puntos[0][1]\n",
    "    \n",
    "    return (lista_puntos[paso][1] - Y0)/(productoria())   "
   ]
  },
  {
   "cell_type": "code",
   "execution_count": 126,
   "metadata": {},
   "outputs": [
    {
     "name": "stdout",
     "output_type": "stream",
     "text": [
      "(x-1) \n",
      " 2\n"
     ]
    },
    {
     "data": {
      "text/plain": [
       "-0.5"
      ]
     },
     "execution_count": 126,
     "metadata": {},
     "output_type": "execute_result"
    }
   ],
   "source": [
    "lista = [alpha(cosas,1)]"
   ]
  },
  {
   "cell_type": "code",
   "execution_count": 48,
   "metadata": {},
   "outputs": [],
   "source": [
    "x = sp.symbols('x')\n",
    "def function_generator(lista_puntos:list):\n",
    "    #obtenenemos el valor f(x0)\n",
    "    equation = lista_puntos[0][1]\n",
    "    for x,y in lista_puntos:\n",
    "        #funcion matematica\n",
    "        f = sp.lambdify(x,equation,np)\n",
    "        "
   ]
  },
  {
   "cell_type": "code",
   "execution_count": 40,
   "metadata": {},
   "outputs": [
    {
     "name": "stdout",
     "output_type": "stream",
     "text": [
      "Valores de x: [2.3619454707590006, 10.290616155586651, 12.56272859764935, 16.63898237238297, 18.07867501000973]\n",
      "Valores de y: [15.372056207645006, 12.720439601063518, 1.7418882646881575, 8.013127825662659, 12.2638136898549]\n"
     ]
    }
   ],
   "source": [
    "def main():\n",
    "\n",
    "    cota_inferior, cota_superior, cantidad = ingresar_datos()\n",
    "    # Generar los pares de números aleatorios\n",
    "    lista_puntos = generar_puntos_aleatorios(cota_inferior, cota_superior, cantidad)\n",
    "\n",
    "    # Imprime valores\n",
    "    print(\"Valores de x:\", [x[0]for x in lista_puntos])\n",
    "    print(\"Valores de y:\", [x[1]for x in lista_puntos])\n",
    "main()"
   ]
  }
 ],
 "metadata": {
  "kernelspec": {
   "display_name": "Python 3",
   "language": "python",
   "name": "python3"
  },
  "language_info": {
   "codemirror_mode": {
    "name": "ipython",
    "version": 3
   },
   "file_extension": ".py",
   "mimetype": "text/x-python",
   "name": "python",
   "nbconvert_exporter": "python",
   "pygments_lexer": "ipython3",
   "version": "3.10.6"
  },
  "orig_nbformat": 4
 },
 "nbformat": 4,
 "nbformat_minor": 2
}
