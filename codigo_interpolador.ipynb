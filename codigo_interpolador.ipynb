{
 "cells": [
  {
   "cell_type": "code",
   "execution_count": 22,
   "metadata": {},
   "outputs": [],
   "source": [
    "import numpy as np\n",
    "import sympy as sp"
   ]
  },
  {
   "cell_type": "code",
   "execution_count": 23,
   "metadata": {},
   "outputs": [],
   "source": [
    "def productoria(points, step, txt=False, **kwargs):\n",
    "    x =  kwargs['x'] if 'x' in kwargs else points[step][0]\n",
    "    evaluado = 1\n",
    "    noEvaluado = \"\"\n",
    "    for i in range(step):\n",
    "        noEvaluado += f'*(x-{points[i][0]})'\n",
    "        evaluado *= (x - points[i][0])\n",
    "    return evaluado if not txt else noEvaluado   "
   ]
  },
  {
   "cell_type": "code",
   "execution_count": 24,
   "metadata": {},
   "outputs": [],
   "source": [
    "def alphas(points:list):\n",
    "    alphaList = [] \n",
    "    \n",
    "    def prevAlphas(p):\n",
    "        acum = 0\n",
    "        for i in range(len(alphaList)):\n",
    "            acum += alphaList[i] if i < 1 else alphaList[i]*productoria(points,i,x=p)\n",
    "        return acum\n",
    "\n",
    "    for i,p in enumerate(points):           \n",
    "        alpha = (points[i][1]-(prevAlphas(p[0]) if i>0 else 0))/productoria(points, i) \n",
    "        alphaList.append(alpha)\n",
    "       \n",
    "    return alphaList"
   ]
  },
  {
   "cell_type": "code",
   "execution_count": 25,
   "metadata": {},
   "outputs": [],
   "source": [
    "def nEquation(points, **kwargs):\n",
    "    pn =  kwargs['pn'] if 'pn' in kwargs else len(points)\n",
    "    x = sp.symbols('x')\n",
    "    equations = []\n",
    "    alphaList = alphas(points)\n",
    "    equation = f'{alphaList[0]}'\n",
    "\n",
    "    for i in range(pn):\n",
    "        if i > 0:\n",
    "            equation += f'{\"+\" if alphaList[i] > 0 else \"\"}{alphaList[i]}{productoria(points,i,True)}'\n",
    "\n",
    "    equation = sp.expand(equation)\n",
    "    return sp.lambdify(x,equation,np)"
   ]
  },
  {
   "cell_type": "code",
   "execution_count": 26,
   "metadata": {},
   "outputs": [],
   "source": [
    "def validarNum(txt:str, nat=False, **kwargs):\n",
    "    min =  kwargs['min'] if 'min' in kwargs else None\n",
    "    while True:\n",
    "        val = input(txt)  \n",
    "        try:\n",
    "            val = float(val)\n",
    "            if val.is_integer():\n",
    "                val = int(val)\n",
    "            if (min and val < min):\n",
    "                raise Exception(f\"Error: El número debe ser mayor de {min}\") \n",
    "            if (nat and (val <= 0)):\n",
    "                raise Exception(\"Error: Se esperaba un número mayor a 0\")                \n",
    "            return val\n",
    "        except ValueError:\n",
    "            print(\"Error: Se esperaba un valor numérico válido.\") \n",
    "        except Exception as e:\n",
    "            print(e)             "
   ]
  },
  {
   "cell_type": "code",
   "execution_count": 27,
   "metadata": {},
   "outputs": [],
   "source": [
    "def choice(txt:str):\n",
    "    ch = str(input(txt))\n",
    "    while(ch.lower() != 's' and ch.lower() != 'n'):\n",
    "        print(f'Se esperaba S/N pero se obtubo {ch}.')\n",
    "        ch = str(input(txt))\n",
    "    return True if ch.lower() == 's' else False"
   ]
  },
  {
   "cell_type": "code",
   "execution_count": 42,
   "metadata": {},
   "outputs": [],
   "source": [
    "class Puntos:\n",
    "    def __init__(self, manualStep=False):\n",
    "        self.steps = int(validarNum('Ingrese la cantidad de puntos:',True)) if manualStep else 20\n",
    "        self.XN = np.array([])\n",
    "        self.YN = np.array([])\n",
    "    \n",
    "    def generar(self):\n",
    "        for i in range(self.steps):\n",
    "            self.XN = np.append(self.XN, validarNum(f'Ingrese el valor para X{i}'))\n",
    "            self.YN = np.append(self.YN, validarNum(f'Ingrese el valor para Y{i}'))\n",
    "\n",
    "    def obtenerPuntos(self):\n",
    "        self.generar()\n",
    "        return [(x,y) for x,y in zip(self.XN, self.YN)]\n",
    "\n",
    "class PuntosAleatorios(Puntos):\n",
    "    def __init__(self, X_Equal_Y, manualStep=False):\n",
    "        Puntos.__init__(self, manualStep)\n",
    "        self.x_min = validarNum('Ingrese la cota menor para x:')\n",
    "        self.x_max = validarNum('Ingrese la cota mayor para x:',min=self.x_min)\n",
    "        self.y_min = self.x_min\n",
    "        self.y_max = self.x_max\n",
    "    \n",
    "        if not X_Equal_Y:\n",
    "            self.y_min = validarNum('Ingrese la cota inferior para y:')\n",
    "            self.y_max = validarNum('Ingrese la cota superior para y:',min=self.y_min)\n",
    "         \n",
    "    def generar(self):\n",
    "        self.XN = np.random.uniform(self.x_min, self.x_max, self.steps)\n",
    "        self.YN = np.random.uniform(self.y_min, self.y_max, self.steps)"
   ]
  },
  {
   "cell_type": "code",
   "execution_count": 43,
   "metadata": {},
   "outputs": [
    {
     "name": "stdout",
     "output_type": "stream",
     "text": [
      "[(3.8497290268680113, 2.618527547475191), (1.0926387194185776, 2.0387553377983334), (3.7095325476103183, 3.7635536211321066), (1.7579572166563193, 2.054320827660498), (4.2499872705353665, 2.031169140440916)]\n"
     ]
    }
   ],
   "source": []
  }
 ],
 "metadata": {
  "kernelspec": {
   "display_name": "Python 3.10.7 64-bit",
   "language": "python",
   "name": "python3"
  },
  "language_info": {
   "codemirror_mode": {
    "name": "ipython",
    "version": 3
   },
   "file_extension": ".py",
   "mimetype": "text/x-python",
   "name": "python",
   "nbconvert_exporter": "python",
   "pygments_lexer": "ipython3",
   "version": "3.10.7"
  },
  "orig_nbformat": 4,
  "vscode": {
   "interpreter": {
    "hash": "bb63a77499ed5899fffa71b49f0fc3f4df2c625891c3993c985b13a523c87e61"
   }
  }
 },
 "nbformat": 4,
 "nbformat_minor": 2
}
