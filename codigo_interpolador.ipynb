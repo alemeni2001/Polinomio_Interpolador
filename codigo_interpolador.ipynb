{
 "cells": [
  {
   "cell_type": "code",
   "execution_count": 3,
   "metadata": {},
   "outputs": [],
   "source": [
    "import numpy as np\n",
    "import sympy as sp\n",
    "import math as m\n",
    "import matplotlib.pyplot as plt"
   ]
  },
  {
   "cell_type": "code",
   "execution_count": 64,
   "metadata": {},
   "outputs": [],
   "source": [
    "#puntos = puntos a  grafifcar\n",
    "#f = funcion a graficar \n",
    "def grafico(puntos_x,puntos_y,f,tituloGrafico:str):\n",
    "    PUNTO_X_MAX =  max(puntos_x)\n",
    "    PUNTO_X_MIN = min(puntos_x)\n",
    "    DOMINIO = 5\n",
    "    #genero datos para el dominio de x\n",
    "    x_values = np.arange(PUNTO_X_MIN-DOMINIO,DOMINIO+PUNTO_X_MAX,step=0.01)\n",
    "    #genero datos para la imagen de y\n",
    "    y_values = ([f(x) for x in x_values])\n",
    "    #ploteo el grafico\n",
    "    plt.plot(x_values,y_values)\n",
    "    # Agregar el eje de abscisas\n",
    "    plt.axhline(y=0, color='black', linestyle='--')\n",
    "    # Agregar el eje de ordenadas\n",
    "    plt.axvline(x=0, color='black', linestyle='--')\n",
    "    #agrego puntos calulados \n",
    "    plt.scatter(puntos_x,puntos_y,c=\"red\")\n",
    "    #agrego labels\n",
    "    plt.xlabel('x')\n",
    "    plt.ylabel('f(x)')\n",
    "    plt.title(tituloGrafico)\n",
    "    PUNTOS_Y_MIN = min(puntos_y)\n",
    "    PUNTOS_Y_MAX = max(puntos_y)\n",
    "    plt.ylim(PUNTOS_Y_MIN-DOMINIO,PUNTOS_Y_MAX+DOMINIO)\n",
    "    #muestro el grafico\n",
    "    plt.show()"
   ]
  },
  {
   "cell_type": "code",
   "execution_count": 5,
   "metadata": {},
   "outputs": [],
   "source": [
    "def decimal_truncate(numero, decimales):\n",
    "    if (decimales < 0): raise Exception(\"el N° de decimales a truncar debe ser positivo\")\n",
    "    factor = 10.0 ** decimales\n",
    "    return m.trunc(numero * factor) / factor\n"
   ]
  },
  {
   "cell_type": "code",
   "execution_count": 6,
   "metadata": {},
   "outputs": [],
   "source": [
    "#funcion que ingresa los decimales exactos\n",
    "def decExactos_a_tolerancia(exactitud):\n",
    "    if (exactitud < 0): raise Exception(\"La exactitud debe ser positiva o 0\")\n",
    "    #scamos el valor de paradad dada la exactitud\n",
    "    tolerancia = \"0.\"\n",
    "    #agregamos tantos 0 como exactitud indicada\n",
    "    for i in range(exactitud): tolerancia += \"0\"\n",
    "    #agregamos un uno para indicar que es una fraccion\n",
    "    tolerancia += \"1\"\n",
    "    #convertimos a flotante para poder operar\n",
    "    return float(tolerancia)\n",
    "\"\"\"\n",
    "    x: recibe un valor cercano a la raiz que se busca aproximar\n",
    "    tolerancia: 0 < Numero < 1 que indica el intervalo de corte de la funcion ej: 0.0001 (como minimo3 deciamles exactos)\n",
    "    f: funcion de tipo numerica\n",
    "\"\"\"\n",
    "def aproximar_raiz_newton_secante(x,tolerancia,f):\n",
    "    symbol = sp.symbols(\"x\")\n",
    "    #instanciamos derivada de la funcion\n",
    "    f1 = sp.lambdify(symbol,sp.diff(f(symbol)),np)\n",
    "    #anidamos funcion para poder utilizar variables no locales\n",
    "    def secante():\n",
    "        try:\n",
    "            return x1 - ((f(x1)*(x1-x))/(f(x1)-f(x)))\n",
    "        except ZeroDivisionError:\n",
    "            print(f\"error: f({x}) = 0, no se puede dividir por 0\")\n",
    "            exit(6)\n",
    "    #------------------------- fin secante ----------------------------------    \n",
    "    while(True):    \n",
    "        try:\n",
    "            x1 = x - (f(x)/f1(x))\n",
    "        except ZeroDivisionError:\n",
    "            print(f\"error: f'({x}) = 0, no se puede dividir por 0\")\n",
    "            exit(6)\n",
    "        if (abs(x-x1) <= tolerancia):\n",
    "            break\n",
    "        x = secante()\n",
    "    return (x1)"
   ]
  },
  {
   "cell_type": "code",
   "execution_count": 7,
   "metadata": {},
   "outputs": [],
   "source": [
    "def productoria(points, step, txt=False, **kwargs):\n",
    "    x =  kwargs['x'] if 'x' in kwargs else points[step][0]\n",
    "    evaluado = 1\n",
    "    noEvaluado = \"\"\n",
    "    for i in range(step):\n",
    "        noEvaluado += f'*(x-{points[i][0]})'\n",
    "        evaluado *= (x - points[i][0])\n",
    "    return evaluado if not txt else noEvaluado   "
   ]
  },
  {
   "cell_type": "code",
   "execution_count": 8,
   "metadata": {},
   "outputs": [],
   "source": [
    "def alphas(points:list):\n",
    "    alphaList = [] \n",
    "    \n",
    "    def prevAlphas(p):\n",
    "        acum = 0\n",
    "        for i in range(len(alphaList)):\n",
    "            acum += alphaList[i] if i < 1 else alphaList[i]*productoria(points,i,x=p)\n",
    "        return acum\n",
    "\n",
    "    for i,p in enumerate(points):           \n",
    "        alpha = (points[i][1]-(prevAlphas(p[0]) if i>0 else 0))/productoria(points, i) \n",
    "        alphaList.append(alpha)\n",
    "       \n",
    "    return alphaList"
   ]
  },
  {
   "cell_type": "code",
   "execution_count": 22,
   "metadata": {},
   "outputs": [],
   "source": [
    "def nEquation(points, **kwargs):\n",
    "    pn =  kwargs['pn'] if 'pn' in kwargs else len(points)\n",
    "    x = sp.symbols('x')\n",
    "    equations = []\n",
    "    alphaList = alphas(points)\n",
    "    equation = f'{alphaList[0]}'\n",
    "\n",
    "    for i in range(pn):\n",
    "        if i > 0:\n",
    "            equation += f'{\"+\" if alphaList[i] > 0 else \"\"}{alphaList[i]}{productoria(points,i,True)}'\n",
    "    return sp.lambdify(x,equation,np)"
   ]
  },
  {
   "cell_type": "code",
   "execution_count": 10,
   "metadata": {},
   "outputs": [],
   "source": [
    "def validarNum(txt:str, nat=False, **kwargs):\n",
    "    min =  kwargs['min'] if 'min' in kwargs else None\n",
    "    while True:\n",
    "        val = input(txt)  \n",
    "        try:\n",
    "            val = float(val)\n",
    "            if val.is_integer():\n",
    "                val = int(val)\n",
    "            if (min and val < min):\n",
    "                raise Exception(f\"Error: El número debe ser mayor de {min}\") \n",
    "            if (nat and (val <= 0)):\n",
    "                raise Exception(\"Error: Se esperaba un número mayor a 0\")                \n",
    "            return val\n",
    "        except ValueError:\n",
    "            print(\"Error: Se esperaba un valor numérico válido.\") \n",
    "        except Exception as e:\n",
    "            print(e)             "
   ]
  },
  {
   "cell_type": "code",
   "execution_count": 11,
   "metadata": {},
   "outputs": [],
   "source": [
    "def choice(txt:str):\n",
    "    ch = str(input(txt))\n",
    "    while(ch.lower() != 's' and ch.lower() != 'n'):\n",
    "        print(f'Se esperaba S/N pero se obtubo {ch}.')\n",
    "        ch = str(input(txt))\n",
    "    return True if ch.lower() == 's' else False"
   ]
  },
  {
   "cell_type": "code",
   "execution_count": 125,
   "metadata": {},
   "outputs": [],
   "source": [
    "class Puntos:\n",
    "    def __init__(self, manualStep=False):\n",
    "        self.steps = int(validarNum('Ingrese la cantidad de puntos:',True)) if manualStep else 20\n",
    "        self.XN = np.array([])\n",
    "        self.YN = np.array([])\n",
    "    \n",
    "    def generar(self):\n",
    "        for i in range(self.steps):\n",
    "            self.XN = np.append(self.XN, validarNum(f'Ingrese el valor para X{i}'))\n",
    "            self.YN = np.append(self.YN, validarNum(f'Ingrese el valor para Y{i}'))\n",
    "\n",
    "    def obtenerPuntos(self):\n",
    "        self.generar()\n",
    "        return [(x,y) for x,y in zip(self.XN, self.YN)]\n",
    "\n",
    "class PuntosAleatorios(Puntos):\n",
    "    def __init__(self, X_Equal_Y, manualStep=False):\n",
    "        Puntos.__init__(self, manualStep)   \n",
    "        self.x_min = validarNum('Ingrese la cota menor para x:')\n",
    "        self.x_max = validarNum('Ingrese la cota mayor para x:',min=self.x_min)\n",
    "        self.y_min = self.x_min\n",
    "        self.y_max = self.x_max\n",
    "        if not X_Equal_Y:\n",
    "            self.y_min = validarNum('Ingrese la cota inferior para y:')\n",
    "            self.y_max = validarNum('Ingrese la cota superior para y:',min=self.y_min)\n",
    "        \n",
    "    def generar(self):\n",
    "        #Genera arrays con numeros aleatorios y diferentes entre si\n",
    "        self.YN = np.random.choice(np.round(np.random.uniform(self.y_min, self.y_max, size = self.steps),3), size=self.steps, replace=False)\n",
    "        self.XN = np.random.choice(np.round(np.random.uniform(self.x_min, self.x_max, size = self.steps),3), size=self.steps, replace=False)"
   ]
  },
  {
   "cell_type": "code",
   "execution_count": 109,
   "metadata": {},
   "outputs": [],
   "source": [
    "#cantPuntos = cantidad de puntos que se usaron para generar el polinomio\n",
    "#funcNewton = polinomio de newton numerico\n",
    "def testeoGrado(cantPuntos:int,FuncNewton):\n",
    "    GRADO_TEORICO = cantPuntos-1\n",
    "    x = sp.symbols(\"x\")\n",
    "    f_simbolic = sp.simplify(FuncNewton(x))\n",
    "    GRADO_POLINOMIO = sp.degree(f_simbolic)\n",
    "    if (GRADO_POLINOMIO != GRADO_TEORICO): raise Exception(f\"error: el grado del polinomio ({GRADO_POLINOMIO}) debe ser igual al grado teorico ({GRADO_TEORICO})\")\n",
    "    print(f\"El grado del polinomio ({GRADO_POLINOMIO}) es igual al grado teorico (cantPuntos-1 = {GRADO_TEORICO}) \")\n",
    "    "
   ]
  },
  {
   "cell_type": "code",
   "execution_count": 118,
   "metadata": {},
   "outputs": [
    {
     "data": {
      "text/plain": [
       "[(-7.661, 10.38),\n",
       " (16.007, 6.965),\n",
       " (9.362, 14.261),\n",
       " (24.947, 23.752),\n",
       " (22.589, -2.131),\n",
       " (21.339, 26.183),\n",
       " (26.345, 14.292),\n",
       " (7.535, 25.041),\n",
       " (27.543, 8.005),\n",
       " (-4.317, 18.361),\n",
       " (11.159, 19.237),\n",
       " (-4.058, 27.218),\n",
       " (9.633, 8.681),\n",
       " (-1.861, -0.437),\n",
       " (18.859, -0.042),\n",
       " (6.375, 19.961),\n",
       " (-4.848, -9.787),\n",
       " (24.113, 20.233),\n",
       " (29.845, -8.159),\n",
       " (-9.375, -6.653)]"
      ]
     },
     "execution_count": 118,
     "metadata": {},
     "output_type": "execute_result"
    }
   ],
   "source": [
    "xd = np.random.choice(np.round(np.random.uniform(-10, 30, size=100),3), size=20, replace=False)\n",
    "yd = np.random.choice(np.round(np.random.uniform(-10, 30, size=100),3), size=20, replace=False)\n",
    "\n",
    "[(x,y) for x,y in zip(xd, yd)]"
   ]
  },
  {
   "cell_type": "code",
   "execution_count": 128,
   "metadata": {},
   "outputs": [
    {
     "name": "stdout",
     "output_type": "stream",
     "text": [
      "[(0.497, 0.27), (0.221, 0.429), (0.634, 0.952), (0.34, 0.132), (0.417, 0.331), (0.316, 0.323), (0.897, 0.961), (0.307, 0.511), (0.875, 0.921), (0.611, 0.639), (0.864, 0.077), (0.166, 0.068), (0.488, 0.454), (0.27, 0.409), (0.74, 0.277), (0.87, 0.449), (0.78, 0.542), (0.788, 0.611), (0.942, 0.865), (0.174, 0.664)]\n",
      "\n",
      "\n",
      "\n",
      "\n",
      "puntos generados ordenados segun x de menor a mayor:\n",
      "[(0.166, 0.068), (0.174, 0.664), (0.221, 0.429), (0.27, 0.409), (0.307, 0.511), (0.316, 0.323), (0.34, 0.132), (0.417, 0.331), (0.488, 0.454), (0.497, 0.27), (0.611, 0.639), (0.634, 0.952), (0.74, 0.277), (0.78, 0.542), (0.788, 0.611), (0.864, 0.077), (0.87, 0.449), (0.875, 0.921), (0.897, 0.961), (0.942, 0.865)]\n",
      "\n",
      "\n",
      "\n",
      "\n",
      "Polinomio generado:\n",
      "4621988214755.86*x**19 - 45317816139016.1*x**18 + 206571706790626.0*x**17 - 580979066184281.0*x**16 + 1.12819364737293e+15*x**15 - 1.60356473438062e+15*x**14 + 1.7251224746202e+15*x**13 - 1.43206127817931e+15*x**12 + 926041536104378.0*x**11 - 467003540190293.0*x**10 + 182190883472783.0*x**9 - 53800519370726.6*x**8 + 11434102281097.1*x**7 - 1515272004961.63*x**6 + 42155199801.4048*x**5 + 30065058724.9067*x**4 - 7094436375.12067*x**3 + 810307531.919823*x**2 - 49824684.3788731*x + 1320512.24031351\n",
      "\n",
      "\n",
      "El grado del polinomio (19) es igual al grado teorico (cantPuntos-1 = 19) \n",
      "\n",
      "\n",
      "\n",
      "\n",
      "puntos generados aleatoriamente en y\n",
      "[0.068, 0.664, 0.429, 0.409, 0.511, 0.323, 0.132, 0.331, 0.454, 0.27, 0.639, 0.952, 0.277, 0.542, 0.611, 0.077, 0.449, 0.921, 0.961, 0.865]\n",
      "puntos en y generados con f(puntos generados aleatoreamente en  x) \n",
      "[0.068, 0.6640000000000001, 0.4289999999999998, 0.4090000000000007, 0.5110000000000028, 0.323, 0.13199999999999623, 0.3310000000000457, 0.4539999999998372, 0.2700000000004579, 0.6389999999901192, 0.9519999999884021, 0.27700000020558946, 0.5419999998121057, 0.6109999996798479, 0.07700000044496846, 0.44900000108424365, 0.9209999989083784, 0.961000004163548, 0.8649999951106224]\n"
     ]
    },
    {
     "data": {
      "image/png": "[encoded data removed]",
      "text/plain": [
       "<Figure size 640x480 with 1 Axes>"
      ]
     },
     "metadata": {},
     "output_type": "display_data"
    }
   ],
   "source": [
    "def saltosDeLinea(cantSaltos):\n",
    "    for i in range(cantSaltos): print(\"\\n\")\n",
    "def main():\n",
    "    try:\n",
    "        #funcion de ingreso de datos\n",
    "        #lista_puntos = Puntos().obtenerPuntos() if choice(\"Desea ingresar los puntos manualmente? S/N\") else PuntosAleatorios(choice('Limites de x e y iguales? S/N')).obtenerPuntos()\n",
    "        CANT_PUNTOS = 20\n",
    "        puntos_x = np.random.choice(np.round(np.random.uniform(-10, 30, size=100),3), size=CANT_PUNTOS, replace=False)\n",
    "        puntos_y = np.random.choice(np.round(np.random.uniform(-20, 40, size=100),3), size=CANT_PUNTOS, replace=False)\n",
    "        lista_puntos = [(x,y) for x,y in zip(puntos_x, puntos_y)]\n",
    "        print (lista_puntos)##DEBUG##################\n",
    "        lista_puntos_asc = sorted(lista_puntos, key=lambda x: x[0])\n",
    "        lista_puntos_desc = sorted(lista_puntos, key=lambda x: x[0], reverse=True)\n",
    "        saltosDeLinea(2)\n",
    "        print(\"puntos generados ordenados segun x de menor a mayor:\")\n",
    "        print(lista_puntos_asc)\n",
    "    except Exception:\n",
    "        print('La creación de la lista de puntos falló.')\n",
    "    ##calulo de polinomio generado por puntos ordenados segun x de forma de decreciente\n",
    "    saltosDeLinea(2)\n",
    "    poli_newton_desc = nEquation(lista_puntos_asc)\n",
    "    symbol = sp.symbols(\"x\")\n",
    "    print(\"Polinomio generado:\")\n",
    "    print(sp.simplify(poli_newton_desc(symbol)))\n",
    "    ##Testeo de grado del polinomio ordenado por x\n",
    "    saltosDeLinea(1)\n",
    "    testeoGrado(cantPuntos=len(lista_puntos_asc),FuncNewton=poli_newton_desc)\n",
    "    #grafico de la funcion con sus respectivos puntos\n",
    "    saltosDeLinea(2)\n",
    "    PUNTOS_X_ASC =[punto[0] for punto in lista_puntos_asc]\n",
    "    PUNTOS_Y_ASC = [punto[1] for punto in lista_puntos_asc]\n",
    "    ##DEBUG###################\n",
    "    print(\"puntos generados aleatoriamente en y\")\n",
    "    print(PUNTOS_Y_ASC)\n",
    "    print (\"puntos en y generados con f(puntos generados aleatoreamente en  x) \")\n",
    "    print(f\"{[poli_newton_desc(x) for x in PUNTOS_X_ASC]}\") \n",
    "    #######################\n",
    "    grafico(PUNTOS_X_ASC,PUNTOS_Y_ASC,poli_newton_desc,\"Grafico del polinomio generado con x ordenado de forma decreciente\")\n",
    "main()\n",
    "        "
   ]
  }
 ],
 "metadata": {
  "kernelspec": {
   "display_name": "Python 3.10.7 64-bit",
   "language": "python",
   "name": "python3"
  },
  "language_info": {
   "codemirror_mode": {
    "name": "ipython",
    "version": 3
   },
   "file_extension": ".py",
   "mimetype": "text/x-python",
   "name": "python",
   "nbconvert_exporter": "python",
   "pygments_lexer": "ipython3",
   "version": "3.10.6"
  },
  "orig_nbformat": 4,
  "vscode": {
   "interpreter": {
    "hash": "bb63a77499ed5899fffa71b49f0fc3f4df2c625891c3993c985b13a523c87e61"
   }
  }
 },
 "nbformat": 4,
 "nbformat_minor": 2
}
