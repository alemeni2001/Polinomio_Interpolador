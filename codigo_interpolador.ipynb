{
 "cells": [
  {
   "cell_type": "code",
   "execution_count": 61,
   "metadata": {},
   "outputs": [],
   "source": [
    "import numpy as np\n",
    "import sympy as sp\n",
    "import math as m\n",
    "import matplotlib.pyplot as plt"
   ]
  },
  {
   "cell_type": "code",
   "execution_count": 62,
   "metadata": {},
   "outputs": [],
   "source": [
    "#puntos = puntos a  grafifcar\n",
    "#f = funcion a graficar \n",
    "def grafico(puntos_x,puntos_y,f):\n",
    "    PUNTO_X_MAX =  max(puntos_x)\n",
    "    PUNTO_X_MIN = min(puntos_x)\n",
    "    DOMINIO = 5\n",
    "    #genero datos para el dominio de x\n",
    "    x_values = np.arange(PUNTO_X_MIN-DOMINIO,DOMINIO+PUNTO_X_MAX,step=0.3)\n",
    "    #genero datos para la imagen de y\n",
    "    y_values = ([f(x) for x in x_values])\n",
    "    #ploteo el grafico\n",
    "    plt.plot(x_values,y_values)\n",
    "    # Agregar el eje de abscisas\n",
    "    plt.axhline(y=0, color='black', linestyle='--')\n",
    "    # Agregar el eje de ordenadas\n",
    "    plt.axvline(x=0, color='black', linestyle='--')\n",
    "    #agrego puntos calulados \n",
    "    plt.scatter(puntos_x,puntos_y,c=\"red\")\n",
    "    #agrego labels\n",
    "    plt.xlabel('x')\n",
    "    plt.ylabel('f(x)')\n",
    "    plt.title(f'Grafico aproximado de la funcion')\n",
    "    #muestro el grafico\n",
    "    plt.show()"
   ]
  },
  {
   "cell_type": "code",
   "execution_count": 63,
   "metadata": {},
   "outputs": [],
   "source": [
    "def decimal_truncate(numero, decimales):\n",
    "    if (decimales < 0): raise Exception(\"el N° de decimales a truncar debe ser positivo\")\n",
    "    factor = 10.0 ** decimales\n",
    "    return m.trunc(numero * factor) / factor\n"
   ]
  },
  {
   "cell_type": "code",
   "execution_count": 64,
   "metadata": {},
   "outputs": [],
   "source": [
    "#funcion que ingresa los decimales exactos\n",
    "def decExactos_a_tolerancia(exactitud):\n",
    "    if (exactitud < 0): raise Exception(\"La exactitud debe ser positiva o 0\")\n",
    "    #scamos el valor de paradad dada la exactitud\n",
    "    tolerancia = \"0.\"\n",
    "    #agregamos tantos 0 como exactitud indicada\n",
    "    for i in range(exactitud): tolerancia += \"0\"\n",
    "    #agregamos un uno para indicar que es una fraccion\n",
    "    tolerancia += \"1\"\n",
    "    #convertimos a flotante para poder operar\n",
    "    return float(tolerancia)\n",
    "\"\"\"\n",
    "    x: recibe un valor cercano a la raiz que se busca aproximar\n",
    "    tolerancia: 0 < Numero < 1 que indica el intervalo de corte de la funcion ej: 0.0001 (como minimo3 deciamles exactos)\n",
    "    f: funcion de tipo numerica\n",
    "\"\"\"\n",
    "def aproximar_raiz_newton_secante(x,tolerancia,f):\n",
    "    symbol = sp.symbols(\"x\")\n",
    "    #instanciamos derivada de la funcion\n",
    "    f1 = sp.lambdify(symbol,sp.diff(f(symbol)),np)\n",
    "    #anidamos funcion para poder utilizar variables no locales\n",
    "    def secante():\n",
    "        try:\n",
    "            return x1 - ((f(x1)*(x1-x))/(f(x1)-f(x)))\n",
    "        except ZeroDivisionError:\n",
    "            print(f\"error: f({x}) = 0, no se puede dividir por 0\")\n",
    "            exit(6)\n",
    "    #------------------------- fin secante ----------------------------------    \n",
    "    while(True):    \n",
    "        try:\n",
    "            x1 = x - (f(x)/f1(x))\n",
    "        except ZeroDivisionError:\n",
    "            print(f\"error: f'({x}) = 0, no se puede dividir por 0\")\n",
    "            exit(6)\n",
    "        if (abs(x-x1) <= tolerancia):\n",
    "            break\n",
    "        x = secante()\n",
    "    return (x1)"
   ]
  },
  {
   "cell_type": "code",
   "execution_count": 65,
   "metadata": {},
   "outputs": [],
   "source": [
    "def productoria(points, step, txt=False, **kwargs):\n",
    "    x =  kwargs['x'] if 'x' in kwargs else points[step][0]\n",
    "    evaluado = 1\n",
    "    noEvaluado = \"\"\n",
    "    for i in range(step):\n",
    "        noEvaluado += f'*(x-{points[i][0]})'\n",
    "        evaluado *= (x - points[i][0])\n",
    "    return evaluado if not txt else noEvaluado   "
   ]
  },
  {
   "cell_type": "code",
   "execution_count": 66,
   "metadata": {},
   "outputs": [],
   "source": [
    "def alphas(points:list):\n",
    "    alphaList = [] \n",
    "    \n",
    "    def prevAlphas(p):\n",
    "        acum = 0\n",
    "        for i in range(len(alphaList)):\n",
    "            acum += alphaList[i] if i < 1 else alphaList[i]*productoria(points,i,x=p)\n",
    "        return acum\n",
    "\n",
    "    for i,p in enumerate(points):           \n",
    "        alpha = (points[i][1]-(prevAlphas(p[0]) if i>0 else 0))/productoria(points, i) \n",
    "        alphaList.append(alpha)\n",
    "       \n",
    "    return alphaList"
   ]
  },
  {
   "cell_type": "code",
   "execution_count": 67,
   "metadata": {},
   "outputs": [],
   "source": [
    "def nEquation(points, **kwargs):\n",
    "    pn =  kwargs['pn'] if 'pn' in kwargs else len(points)\n",
    "    x = sp.symbols('x')\n",
    "    equations = []\n",
    "    alphaList = alphas(points)\n",
    "    equation = f'{alphaList[0]}'\n",
    "\n",
    "    for i in range(pn):\n",
    "        if i > 0:\n",
    "            equation += f'{\"+\" if alphaList[i] > 0 else \"\"}{alphaList[i]}{productoria(points,i,True)}'\n",
    "    equation = sp.expand(equation)\n",
    "    return sp.lambdify(x,equation,np)"
   ]
  },
  {
   "cell_type": "code",
   "execution_count": 68,
   "metadata": {},
   "outputs": [],
   "source": [
    "def validarNum(txt:str, nat=False, **kwargs):\n",
    "    min =  kwargs['min'] if 'min' in kwargs else None\n",
    "    while True:\n",
    "        val = input(txt)  \n",
    "        try:\n",
    "            val = float(val)\n",
    "            if val.is_integer():\n",
    "                val = int(val)\n",
    "            if (min and val < min):\n",
    "                raise Exception(f\"Error: El número debe ser mayor de {min}\") \n",
    "            if (nat and (val <= 0)):\n",
    "                raise Exception(\"Error: Se esperaba un número mayor a 0\")                \n",
    "            return val\n",
    "        except ValueError:\n",
    "            print(\"Error: Se esperaba un valor numérico válido.\") \n",
    "        except Exception as e:\n",
    "            print(e)             "
   ]
  },
  {
   "cell_type": "code",
   "execution_count": 69,
   "metadata": {},
   "outputs": [],
   "source": [
    "def choice(txt:str):\n",
    "    ch = str(input(txt))\n",
    "    while(ch.lower() != 's' and ch.lower() != 'n'):\n",
    "        print(f'Se esperaba S/N pero se obtubo {ch}.')\n",
    "        ch = str(input(txt))\n",
    "    return True if ch.lower() == 's' else False"
   ]
  },
  {
   "cell_type": "code",
   "execution_count": 70,
   "metadata": {},
   "outputs": [],
   "source": [
    "class Puntos:\n",
    "    def __init__(self, manualStep=False):\n",
    "        self.steps = int(validarNum('Ingrese la cantidad de puntos:',True)) if manualStep else 20\n",
    "        self.XN = np.array([])\n",
    "        self.YN = np.array([])\n",
    "    \n",
    "    def generar(self):\n",
    "        for i in range(self.steps):\n",
    "            self.XN = np.append(self.XN, validarNum(f'Ingrese el valor para X{i}'))\n",
    "            self.YN = np.append(self.YN, validarNum(f'Ingrese el valor para Y{i}'))\n",
    "\n",
    "    def obtenerPuntos(self):\n",
    "        self.generar()\n",
    "        return [(x,y) for x,y in zip(self.XN, self.YN)]\n",
    "\n",
    "class PuntosAleatorios(Puntos):\n",
    "    def __init__(self, X_Equal_Y, manualStep=False):\n",
    "        Puntos.__init__(self, manualStep)\n",
    "        self.x_min = validarNum('Ingrese la cota menor para x:')\n",
    "        self.x_max = validarNum('Ingrese la cota mayor para x:',min=self.x_min)\n",
    "        self.y_min = self.x_min\n",
    "        self.y_max = self.x_max\n",
    "    \n",
    "        if not X_Equal_Y:\n",
    "            self.y_min = validarNum('Ingrese la cota inferior para y:')\n",
    "            self.y_max = validarNum('Ingrese la cota superior para y:',min=self.y_min)\n",
    "         \n",
    "    def generar(self):\n",
    "        self.XN = np.random.uniform(self.x_min, self.x_max, self.steps)\n",
    "        self.YN = np.random.uniform(self.y_min, self.y_max, self.steps)"
   ]
  },
  {
   "cell_type": "code",
   "execution_count": 74,
   "metadata": {},
   "outputs": [],
   "source": [
    "#cantPuntos = cantidad de puntos que se usaron para generar el polinomio\n",
    "#funcNewton = polinomio de newton numerico\n",
    "def testeoGrado(cantPuntos:int,FuncNewton):\n",
    "    GRADO_TEORICO = cantPuntos-1\n",
    "    x = sp.symbols(\"x\")\n",
    "    f_simbolic = sp.simplify(FuncNewton(x))\n",
    "    GRADO_POLINOMIO = sp.degree(f_simbolic)\n",
    "    if (GRADO_POLINOMIO != GRADO_TEORICO): raise Exception(f\"error: el grado del polinomio ({GRADO_POLINOMIO}) debe ser igual al grado teorico ({GRADO_TEORICO})\")\n",
    "    print(f\"El grado del polinomio ({GRADO_POLINOMIO}) es igual al grado teorico (cantPuntos-1 = {GRADO_TEORICO}) \")\n",
    "    "
   ]
  },
  {
   "cell_type": "code",
   "execution_count": 77,
   "metadata": {},
   "outputs": [
    {
     "name": "stdout",
     "output_type": "stream",
     "text": [
      "Se esperaba S/N pero se obtubo .\n",
      "\n",
      "\n",
      "\n",
      "\n",
      "puntos generados ordenados segun x de forma decreciente:\n",
      "[(7.815907819063187, 6.081085183951728), (7.584505457641255, 4.266541286203074), (7.18755585978499, 7.005838627898713), (6.831265919585726, 5.1390006968796085), (6.637775163633705, 3.7501819520455943), (6.5511636209293345, 4.948575249768205), (6.322051307370523, 7.374064393500587), (5.615227506030532, 7.798213169060807), (5.327960231298148, 4.648009609832228), (5.107015260590105, 2.266564873474757), (4.7776908897040355, 5.133134302297465), (4.106495852255209, 2.9153196438803617), (4.088563023710032, 2.50292031222182), (4.004677435116705, 1.5457381614475496), (3.2973945868994754, 2.207525573545049), (2.7666471219752076, 5.740234279321949), (2.225812570204499, 2.4250084791699122), (1.9939331816427233, 3.5397541701430786), (1.4212522812627204, 6.891578167664101), (1.3580324472715064, 1.0161031530166946)]\n",
      "\n",
      "\n",
      "\n",
      "\n",
      "Polinomio generado:\n",
      "-0.00134121251906771*x**19 + 0.121688838932628*x**18 - 5.17719756661909*x**17 + 137.221619606113*x**16 - 2538.99531176987*x**15 + 34826.1074940595*x**14 - 367020.610105638*x**13 + 3039177.63059359*x**12 - 20053159.8117251*x**11 + 106283306.079319*x**10 - 453996169.725375*x**9 + 1561633884.70228*x**8 - 4303945706.829*x**7 + 9412189393.37808*x**6 - 16078336331.2705*x**5 + 20943768695.3493*x**4 - 20038915624.3763*x**3 + 13240411491.9608*x**2 - 5383023851.47926*x + 1012072317.42987\n",
      "\n",
      "\n",
      "El grado del polinomio (19) es igual al grado teorico (cantPuntos-1 = 19) \n"
     ]
    }
   ],
   "source": [
    "def saltosDeLinea(cantSaltos):\n",
    "    for i in range(cantSaltos): print(\"\\n\")\n",
    "def main():\n",
    "    ##ingreso de datos\n",
    "    try:\n",
    "        lista_puntos = Puntos().obtenerPuntos() if choice(\"Desea ingresar los puntos manualmente? S/N\") else PuntosAleatorios(choice('Limites de x e y iguales? S/N')).obtenerPuntos()\n",
    "        lista_puntos_asc = sorted(lista_puntos, key=lambda x: x[0])\n",
    "        lista_puntos_desc = sorted(lista_puntos, key=lambda x: x[0], reverse=True)\n",
    "        saltosDeLinea(2)\n",
    "        print(\"puntos generados ordenados segun x de forma decreciente:\")\n",
    "        print(lista_puntos_desc)\n",
    "    except Exception:\n",
    "        print('La creación de la lista de puntos falló.')\n",
    "    ##calulo de polinomio generado por puntos ordenados segun x de forma de decreciente\n",
    "    saltosDeLinea(2)\n",
    "    poli_newton_desc = nEquation(lista_puntos_desc)\n",
    "    print(\"Polinomio generado:\")\n",
    "    print(sp.simplify(poli_newton_desc(x)))\n",
    "    ##Testeo de grado del polinomio ordenado por x\n",
    "    saltosDeLinea(1)\n",
    "    testeoGrado(cantPuntos=len(lista_puntos_desc),FuncNewton=poli_newton_desc)\n",
    "main()\n",
    "    "
   ]
  }
 ],
 "metadata": {
  "kernelspec": {
   "display_name": "Python 3.10.7 64-bit",
   "language": "python",
   "name": "python3"
  },
  "language_info": {
   "codemirror_mode": {
    "name": "ipython",
    "version": 3
   },
   "file_extension": ".py",
   "mimetype": "text/x-python",
   "name": "python",
   "nbconvert_exporter": "python",
   "pygments_lexer": "ipython3",
   "version": "3.10.6"
  },
  "orig_nbformat": 4,
  "vscode": {
   "interpreter": {
    "hash": "bb63a77499ed5899fffa71b49f0fc3f4df2c625891c3993c985b13a523c87e61"
   }
  }
 },
 "nbformat": 4,
 "nbformat_minor": 2
}
